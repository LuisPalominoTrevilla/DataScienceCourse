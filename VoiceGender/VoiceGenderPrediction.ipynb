{
 "cells": [
  {
   "cell_type": "code",
   "execution_count": 416,
   "metadata": {},
   "outputs": [],
   "source": [
    "import scipy\n",
    "from scipy.io.wavfile import read\n",
    "from scipy.signal import hann\n",
    "from scipy.fftpack import rfft\n",
    "import matplotlib.pyplot as plt\n",
    "import pandas as pd\n",
    "import numpy as np\n",
    "from scipy import stats"
   ]
  },
  {
   "cell_type": "code",
   "execution_count": 439,
   "metadata": {},
   "outputs": [],
   "source": [
    "audios=['H_A00226225.wav','H_A00226522.wav','H_A00226860.wav',\n",
    "       'H_A01227071.wav','H_A01228574.wav','M_A00344189.wav',\n",
    "       'H_A01229141.wav','H_A01630076 .wav','M_A01226436.wav']"
   ]
  },
  {
   "cell_type": "code",
   "execution_count": 440,
   "metadata": {},
   "outputs": [],
   "source": [
    "num_segments = 4"
   ]
  },
  {
   "cell_type": "code",
   "execution_count": 441,
   "metadata": {},
   "outputs": [],
   "source": [
    "audio_data = {'db_mean': [], 'db_min': [], 'db_median': [], 'label': []}"
   ]
  },
  {
   "cell_type": "code",
   "execution_count": 442,
   "metadata": {},
   "outputs": [
    {
     "data": {
      "text/html": [
       "<div>\n",
       "<style scoped>\n",
       "    .dataframe tbody tr th:only-of-type {\n",
       "        vertical-align: middle;\n",
       "    }\n",
       "\n",
       "    .dataframe tbody tr th {\n",
       "        vertical-align: top;\n",
       "    }\n",
       "\n",
       "    .dataframe thead th {\n",
       "        text-align: right;\n",
       "    }\n",
       "</style>\n",
       "<table border=\"1\" class=\"dataframe\">\n",
       "  <thead>\n",
       "    <tr style=\"text-align: right;\">\n",
       "      <th></th>\n",
       "      <th>db_mean</th>\n",
       "      <th>db_min</th>\n",
       "      <th>db_median</th>\n",
       "      <th>label</th>\n",
       "    </tr>\n",
       "  </thead>\n",
       "  <tbody>\n",
       "    <tr>\n",
       "      <th>0</th>\n",
       "      <td>-80.950480</td>\n",
       "      <td>-206.273642</td>\n",
       "      <td>-76.653750</td>\n",
       "      <td>Macho</td>\n",
       "    </tr>\n",
       "    <tr>\n",
       "      <th>1</th>\n",
       "      <td>-67.043662</td>\n",
       "      <td>-187.411110</td>\n",
       "      <td>-67.692895</td>\n",
       "      <td>Macho</td>\n",
       "    </tr>\n",
       "    <tr>\n",
       "      <th>2</th>\n",
       "      <td>-56.537304</td>\n",
       "      <td>-167.733353</td>\n",
       "      <td>-52.810290</td>\n",
       "      <td>Macho</td>\n",
       "    </tr>\n",
       "    <tr>\n",
       "      <th>3</th>\n",
       "      <td>-67.908956</td>\n",
       "      <td>-196.834957</td>\n",
       "      <td>-67.900460</td>\n",
       "      <td>Macho</td>\n",
       "    </tr>\n",
       "    <tr>\n",
       "      <th>4</th>\n",
       "      <td>-89.841875</td>\n",
       "      <td>-206.577406</td>\n",
       "      <td>-87.643456</td>\n",
       "      <td>Macho</td>\n",
       "    </tr>\n",
       "    <tr>\n",
       "      <th>5</th>\n",
       "      <td>-70.518264</td>\n",
       "      <td>-211.278746</td>\n",
       "      <td>-68.381244</td>\n",
       "      <td>Hembra</td>\n",
       "    </tr>\n",
       "    <tr>\n",
       "      <th>6</th>\n",
       "      <td>-79.334454</td>\n",
       "      <td>-244.485079</td>\n",
       "      <td>-71.637910</td>\n",
       "      <td>Macho</td>\n",
       "    </tr>\n",
       "    <tr>\n",
       "      <th>7</th>\n",
       "      <td>-99.601006</td>\n",
       "      <td>-230.553409</td>\n",
       "      <td>-113.387565</td>\n",
       "      <td>Macho</td>\n",
       "    </tr>\n",
       "    <tr>\n",
       "      <th>8</th>\n",
       "      <td>-86.640875</td>\n",
       "      <td>-243.925711</td>\n",
       "      <td>-99.571895</td>\n",
       "      <td>Hembra</td>\n",
       "    </tr>\n",
       "  </tbody>\n",
       "</table>\n",
       "</div>"
      ],
      "text/plain": [
       "     db_mean      db_min   db_median   label\n",
       "0 -80.950480 -206.273642  -76.653750   Macho\n",
       "1 -67.043662 -187.411110  -67.692895   Macho\n",
       "2 -56.537304 -167.733353  -52.810290   Macho\n",
       "3 -67.908956 -196.834957  -67.900460   Macho\n",
       "4 -89.841875 -206.577406  -87.643456   Macho\n",
       "5 -70.518264 -211.278746  -68.381244  Hembra\n",
       "6 -79.334454 -244.485079  -71.637910   Macho\n",
       "7 -99.601006 -230.553409 -113.387565   Macho\n",
       "8 -86.640875 -243.925711  -99.571895  Hembra"
      ]
     },
     "execution_count": 442,
     "metadata": {},
     "output_type": "execute_result"
    }
   ],
   "source": [
    "for audio_file in audios:\n",
    "    input_data = read(audio_file)\n",
    "    audio = input_data[1]\n",
    "    a_l = len(audio)\n",
    "    # apply a Hanning window\n",
    "    window = hann(a_l)\n",
    "    newAudio = audio[:a_l,0] * window\n",
    "    # fftz\n",
    "    mags = abs(rfft(newAudio))\n",
    "    # convert to dB\n",
    "    mags = 20 * scipy.log10(mags)\n",
    "    # normalise to 0 dB max\n",
    "    mags -= max(mags)\n",
    "    audio_data['db_mean'].append(mags.mean())\n",
    "    audio_data['db_min'].append(mags.min())\n",
    "    audio_data['db_median'].append(np.median(mags))\n",
    "    audio_data['label'].append('Macho' if audio_file[0] == 'H' else 'Hembra')\n",
    "audio_df = pd.DataFrame(audio_data)\n",
    "audio_df"
   ]
  },
  {
   "cell_type": "markdown",
   "metadata": {},
   "source": [
    "## Machine Learning classifier"
   ]
  },
  {
   "cell_type": "code",
   "execution_count": 443,
   "metadata": {},
   "outputs": [],
   "source": [
    "from sklearn.model_selection import train_test_split\n",
    "from sklearn.metrics import classification_report,confusion_matrix"
   ]
  },
  {
   "cell_type": "code",
   "execution_count": 444,
   "metadata": {},
   "outputs": [],
   "source": [
    "X = df.drop('label',axis=1)\n",
    "y = df['label']"
   ]
  },
  {
   "cell_type": "code",
   "execution_count": 445,
   "metadata": {},
   "outputs": [],
   "source": [
    "X_train, X_test, y_train, y_test = train_test_split(X, y, test_size=0.30)"
   ]
  },
  {
   "cell_type": "code",
   "execution_count": 446,
   "metadata": {},
   "outputs": [
    {
     "data": {
      "text/plain": [
       "RandomForestClassifier(bootstrap=True, class_weight=None, criterion='gini',\n",
       "            max_depth=None, max_features='auto', max_leaf_nodes=None,\n",
       "            min_impurity_decrease=0.0, min_impurity_split=None,\n",
       "            min_samples_leaf=1, min_samples_split=2,\n",
       "            min_weight_fraction_leaf=0.0, n_estimators=100, n_jobs=None,\n",
       "            oob_score=False, random_state=None, verbose=0,\n",
       "            warm_start=False)"
      ]
     },
     "execution_count": 446,
     "metadata": {},
     "output_type": "execute_result"
    }
   ],
   "source": [
    "from sklearn.ensemble import RandomForestClassifier\n",
    "rfc = RandomForestClassifier(n_estimators=100)\n",
    "rfc.fit(X_train, y_train)"
   ]
  },
  {
   "cell_type": "code",
   "execution_count": 447,
   "metadata": {},
   "outputs": [],
   "source": [
    "rfc_pred = rfc.predict(X_test)"
   ]
  },
  {
   "cell_type": "code",
   "execution_count": 448,
   "metadata": {},
   "outputs": [
    {
     "data": {
      "text/html": [
       "<div>\n",
       "<style scoped>\n",
       "    .dataframe tbody tr th:only-of-type {\n",
       "        vertical-align: middle;\n",
       "    }\n",
       "\n",
       "    .dataframe tbody tr th {\n",
       "        vertical-align: top;\n",
       "    }\n",
       "\n",
       "    .dataframe thead th {\n",
       "        text-align: right;\n",
       "    }\n",
       "</style>\n",
       "<table border=\"1\" class=\"dataframe\">\n",
       "  <thead>\n",
       "    <tr style=\"text-align: right;\">\n",
       "      <th></th>\n",
       "      <th>db_mean</th>\n",
       "      <th>db_min</th>\n",
       "      <th>db_max</th>\n",
       "    </tr>\n",
       "  </thead>\n",
       "  <tbody>\n",
       "    <tr>\n",
       "      <th>2</th>\n",
       "      <td>-56.537304</td>\n",
       "      <td>-167.733353</td>\n",
       "      <td>0.0</td>\n",
       "    </tr>\n",
       "    <tr>\n",
       "      <th>1</th>\n",
       "      <td>-67.043662</td>\n",
       "      <td>-187.411110</td>\n",
       "      <td>0.0</td>\n",
       "    </tr>\n",
       "  </tbody>\n",
       "</table>\n",
       "</div>"
      ],
      "text/plain": [
       "     db_mean      db_min  db_max\n",
       "2 -56.537304 -167.733353     0.0\n",
       "1 -67.043662 -187.411110     0.0"
      ]
     },
     "execution_count": 448,
     "metadata": {},
     "output_type": "execute_result"
    }
   ],
   "source": [
    "X_test"
   ]
  },
  {
   "cell_type": "code",
   "execution_count": 449,
   "metadata": {},
   "outputs": [
    {
     "name": "stdout",
     "output_type": "stream",
     "text": [
      "[[2]]\n"
     ]
    }
   ],
   "source": [
    "print(confusion_matrix(y_test,rfc_pred))"
   ]
  },
  {
   "cell_type": "code",
   "execution_count": 450,
   "metadata": {},
   "outputs": [
    {
     "name": "stdout",
     "output_type": "stream",
     "text": [
      "              precision    recall  f1-score   support\n",
      "\n",
      "       Macho       1.00      1.00      1.00         2\n",
      "\n",
      "   micro avg       1.00      1.00      1.00         2\n",
      "   macro avg       1.00      1.00      1.00         2\n",
      "weighted avg       1.00      1.00      1.00         2\n",
      "\n"
     ]
    }
   ],
   "source": [
    "print(classification_report(y_test,rfc_pred))"
   ]
  },
  {
   "cell_type": "code",
   "execution_count": null,
   "metadata": {},
   "outputs": [],
   "source": []
  }
 ],
 "metadata": {
  "kernelspec": {
   "display_name": "Python 3",
   "language": "python",
   "name": "python3"
  },
  "language_info": {
   "codemirror_mode": {
    "name": "ipython",
    "version": 3
   },
   "file_extension": ".py",
   "mimetype": "text/x-python",
   "name": "python",
   "nbconvert_exporter": "python",
   "pygments_lexer": "ipython3",
   "version": "3.7.1"
  }
 },
 "nbformat": 4,
 "nbformat_minor": 2
}
