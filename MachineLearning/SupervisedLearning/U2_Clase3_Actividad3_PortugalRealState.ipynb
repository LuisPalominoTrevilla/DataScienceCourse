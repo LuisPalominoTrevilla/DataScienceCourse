{
 "cells": [
  {
   "cell_type": "markdown",
   "metadata": {
    "colab_type": "text",
    "id": "6mEGUK7rYoRC"
   },
   "source": [
    "\n",
    "### Guidelines\n",
    "I strongly advise you to carefully read this assignment, think about approaches and try to understand the data before diving into the questions. \n",
    "\n",
    "* **You can complete this assignment working on this Google Colab if you wish"
   ]
  },
  {
   "cell_type": "code",
   "execution_count": 0,
   "metadata": {
    "colab": {},
    "colab_type": "code",
    "id": "wn82o9okMFJR"
   },
   "outputs": [],
   "source": [
    "from google.colab import files\n",
    "\n",
    "uploaded = files.upload()"
   ]
  },
  {
   "cell_type": "markdown",
   "metadata": {},
   "source": [
    "# Details"
   ]
  },
  {
   "cell_type": "markdown",
   "metadata": {
    "colab_type": "text",
    "id": "YwNzVMIwadT-"
   },
   "source": [
    "\n",
    "### You have the following information in your files\n",
    "- \"agents.csv\" and\n",
    "- \"properties.csv\"\n",
    "\n",
    "\n",
    "- PROPERTIES table: \n",
    "  - **id**(PK, INT) - unique identification number of the property ad listing\n",
    "  - **title**(VARCHAR) - title of the property ad listing\n",
    "  - **features**(VARCHAR) - field with additional characteristics of the property ad listing\n",
    "  - **living_area**(FLOAT) - living area of the property in square meters\n",
    "  - **total_area**(FLOAT)- total area of the property in square meters\n",
    "   - **plot_area**(FLOAT) - plot area of the property in square meters\n",
    "  - **price**(FLOAT) - selling price of the property in euros\n",
    "  - **agent_id**(INT) - selling agent id\n",
    "  - **createdAt**(DATE) - date in which the property was added to the market\n",
    "- AGENTS table: \n",
    "  - **agent_id**(PK, INT) - selling agent id\n",
    "  - **company**(VARCHAR) - company for which the agent works\n",
    "\n",
    "#### Details of properties:\n",
    "- **locations** can be: Alenquer, Quinta da Marinha, Golden Mile, Nagüeles;\n",
    "- **types** can be: ‘apartment’, ‘penthouse’, ‘duplex’, ‘house’, ‘villa’, ‘country estate’,\n",
    "‘moradia', ‘quinta', ‘plot’, ‘land’; \n",
    "- the property types can be part of the following **property groups**:\n",
    "  1. group **‘apartments’** includes types ‘apartment’, ‘penthouse’, ‘duplex’;\n",
    "  2. group **‘‘houses’**‘ includes types ‘house’, ‘villa’, ‘country estate’, ‘moradia', ‘quinta’;\n",
    "  3. group **‘‘plots’**‘ includes types ’plot’, ‘land’.\n",
    "- areas:\n",
    " - for the group **‘plots’** use **plot_area**;\n",
    " - for groups **‘apartments’** and **‘houses’** use the highest value between **total_area** or **living_area**;\n",
    "\n"
   ]
  },
  {
   "cell_type": "markdown",
   "metadata": {
    "colab_type": "text",
    "id": "_b76pb1YYc5B"
   },
   "source": [
    "**challenge**\n",
    "- (Q6) Write a code to identify companies (agents) with most expensive properties for each month in 2017\n",
    "- (Q7) Write a code to get first and last property posted by each company (agents)"
   ]
  },
  {
   "cell_type": "markdown",
   "metadata": {
    "colab_type": "text",
    "id": "D6n6ZF7VahF3"
   },
   "source": [
    "# Data Analysis (Python)\n",
    "\n",
    " For this part, feel free to use as many cells as you need below this point. Please use properties.csv as your data source. \n",
    "\n",
    "\n",
    "\n",
    "## Problem \n",
    "A private investor is planning an investment in one of the four locations. In order to decide where to invest he needs to know the price impact of such features as ‘pool’, ‘sea view’ and ‘garage’ on properties in each location.\n",
    "He also asks for the mean price of the properties in each type group (‘apartments’, ‘houses’, ‘plots’) and wants to know about properties in the market that are undervalued and overvalued. In order to accomplish the problem that was described we want you to cover the following steps:\n",
    "\n",
    "#### Part 1: Data Cleaning\n",
    "As you have seen previously, a lot of information is present in the title/features fields. From there, we want to extract the relevant information for further analysis, such as:\n",
    " - 1A: Property  **type** (as presented in **Details** above, of each property from **title** field\n",
    " - 1B: Property **location** (as presented in **Details** above, of each property from **title** field\n",
    " - 1C: From **features** field, if a property has:\n",
    "  - a pool\n",
    "  - a garage\n",
    "  - sea view\n",
    "\n",
    "#### Expected Outcome for Part 1:\n",
    "- Create a property dataset with the following schema and save it in a csv file:\n",
    "  - id; \n",
    "  - location name\n",
    "  - type\n",
    "  - title\n",
    "  - features\n",
    "  - pool (0/1)\n",
    "  - sea view (0/1)\n",
    "  - garage (0/1)\n",
    "- Pool, sea view and garage should be binary:1 if the property has the feature and 0 if not\n",
    "- For each of the 3 tasks (1A, 1B, 1C), describe in detail the what you did.\n",
    "-  Please provide your code in the cells below, in a reproducible and understandable way;"
   ]
  },
  {
   "cell_type": "code",
   "execution_count": 184,
   "metadata": {
    "colab": {},
    "colab_type": "code",
    "id": "SEbVdIgUv0Qk"
   },
   "outputs": [],
   "source": [
    "import pandas as pd\n",
    "import numpy as np\n",
    "import seaborn as sns\n",
    "import matplotlib.pyplot as plt"
   ]
  },
  {
   "cell_type": "code",
   "execution_count": 306,
   "metadata": {},
   "outputs": [],
   "source": [
    "property_types = set(['apartment', 'penthouse', 'duplex', 'house', 'villa', 'estate', 'moradia', 'quinta', 'plot', 'land'])\n",
    "property_locations = set(['alenquer', 'quinta da marinha', 'golden mile', 'nagueles'])\n",
    "property_groups = {'apartment':'apartments', 'penthouse':'apartments', 'duplex':'apartments', 'house':'houses', 'villa':'houses', 'estate':'houses', 'moradia':'houses', 'quinta':'houses', 'plot':'plots', 'land':'plots'}\n"
   ]
  },
  {
   "cell_type": "code",
   "execution_count": 215,
   "metadata": {},
   "outputs": [
    {
     "data": {
      "text/html": [
       "<div>\n",
       "<style scoped>\n",
       "    .dataframe tbody tr th:only-of-type {\n",
       "        vertical-align: middle;\n",
       "    }\n",
       "\n",
       "    .dataframe tbody tr th {\n",
       "        vertical-align: top;\n",
       "    }\n",
       "\n",
       "    .dataframe thead th {\n",
       "        text-align: right;\n",
       "    }\n",
       "</style>\n",
       "<table border=\"1\" class=\"dataframe\">\n",
       "  <thead>\n",
       "    <tr style=\"text-align: right;\">\n",
       "      <th></th>\n",
       "      <th>id</th>\n",
       "      <th>title</th>\n",
       "      <th>features</th>\n",
       "      <th>living_area</th>\n",
       "      <th>total_area</th>\n",
       "      <th>plot_area</th>\n",
       "      <th>price</th>\n",
       "      <th>agent_id</th>\n",
       "      <th>created_at</th>\n",
       "    </tr>\n",
       "  </thead>\n",
       "  <tbody>\n",
       "    <tr>\n",
       "      <th>0</th>\n",
       "      <td>44525</td>\n",
       "      <td>Stunning 6 bedroom villa in the heart of the G...</td>\n",
       "      <td>NaN</td>\n",
       "      <td>NaN</td>\n",
       "      <td>918.0</td>\n",
       "      <td>NaN</td>\n",
       "      <td>4400000</td>\n",
       "      <td>184</td>\n",
       "      <td>2018-03-09</td>\n",
       "    </tr>\n",
       "    <tr>\n",
       "      <th>1</th>\n",
       "      <td>44859</td>\n",
       "      <td>Villa for sale in Rocio de Nagüeles, Marbella ...</td>\n",
       "      <td>NaN</td>\n",
       "      <td>NaN</td>\n",
       "      <td>NaN</td>\n",
       "      <td>NaN</td>\n",
       "      <td>2400000</td>\n",
       "      <td>182</td>\n",
       "      <td>2017-02-19</td>\n",
       "    </tr>\n",
       "    <tr>\n",
       "      <th>2</th>\n",
       "      <td>45465</td>\n",
       "      <td>One level 5 bedroom villa for sale in Nagüeles</td>\n",
       "      <td>NaN</td>\n",
       "      <td>NaN</td>\n",
       "      <td>393.0</td>\n",
       "      <td>NaN</td>\n",
       "      <td>1900000</td>\n",
       "      <td>154</td>\n",
       "      <td>2017-04-17</td>\n",
       "    </tr>\n",
       "    <tr>\n",
       "      <th>3</th>\n",
       "      <td>50685</td>\n",
       "      <td>Large estate for sale in Rocio de Nagueles</td>\n",
       "      <td>NaN</td>\n",
       "      <td>0.0</td>\n",
       "      <td>640.0</td>\n",
       "      <td>0.0</td>\n",
       "      <td>4250000</td>\n",
       "      <td>113</td>\n",
       "      <td>2017-09-01</td>\n",
       "    </tr>\n",
       "    <tr>\n",
       "      <th>4</th>\n",
       "      <td>130728</td>\n",
       "      <td>Palatial Villa on Marbellas Golden Mile with ...</td>\n",
       "      <td>Fireplace, Elevator, Terrace, Mountain view, F...</td>\n",
       "      <td>0.0</td>\n",
       "      <td>4903.0</td>\n",
       "      <td>11000.0</td>\n",
       "      <td>32000000</td>\n",
       "      <td>157</td>\n",
       "      <td>2017-02-07</td>\n",
       "    </tr>\n",
       "  </tbody>\n",
       "</table>\n",
       "</div>"
      ],
      "text/plain": [
       "       id                                              title  \\\n",
       "0   44525  Stunning 6 bedroom villa in the heart of the G...   \n",
       "1   44859  Villa for sale in Rocio de Nagüeles, Marbella ...   \n",
       "2   45465     One level 5 bedroom villa for sale in Nagüeles   \n",
       "3   50685         Large estate for sale in Rocio de Nagueles   \n",
       "4  130728  Palatial Villa on Marbellas Golden Mile with ...   \n",
       "\n",
       "                                            features  living_area  total_area  \\\n",
       "0                                                NaN          NaN       918.0   \n",
       "1                                                NaN          NaN         NaN   \n",
       "2                                                NaN          NaN       393.0   \n",
       "3                                                NaN          0.0       640.0   \n",
       "4  Fireplace, Elevator, Terrace, Mountain view, F...          0.0      4903.0   \n",
       "\n",
       "   plot_area     price  agent_id  created_at  \n",
       "0        NaN   4400000       184  2018-03-09  \n",
       "1        NaN   2400000       182  2017-02-19  \n",
       "2        NaN   1900000       154  2017-04-17  \n",
       "3        0.0   4250000       113  2017-09-01  \n",
       "4    11000.0  32000000       157  2017-02-07  "
      ]
     },
     "execution_count": 215,
     "metadata": {},
     "output_type": "execute_result"
    }
   ],
   "source": [
    "props = pd.read_csv('properties.csv')\n",
    "props.head()"
   ]
  },
  {
   "cell_type": "code",
   "execution_count": 146,
   "metadata": {},
   "outputs": [],
   "source": [
    "def B_1(title):\n",
    "    sentence = title.lower()\n",
    "    sentence = sentence.replace(\"ü\", \"u\")\n",
    "    for location in property_locations:\n",
    "        if location in sentence:\n",
    "            return location\n",
    "    return 'NA'"
   ]
  },
  {
   "cell_type": "code",
   "execution_count": 104,
   "metadata": {},
   "outputs": [],
   "source": [
    "def A_1(title):\n",
    "    sentence = title.lower()\n",
    "    for typ in property_types:\n",
    "        if typ in sentence:\n",
    "            return typ\n",
    "    return 'NA'"
   ]
  },
  {
   "cell_type": "code",
   "execution_count": 117,
   "metadata": {},
   "outputs": [],
   "source": [
    "def C_1(title):\n",
    "    if type(title) is not str:\n",
    "        return (0, 0, 0)\n",
    "    sentence = title.lower()\n",
    "    feats = ['pool', 'sea view', 'garage']\n",
    "    res = []\n",
    "    for feat in feats:\n",
    "        res.append(1 if feat in sentence else 0)\n",
    "    return tuple(res)"
   ]
  },
  {
   "cell_type": "code",
   "execution_count": 264,
   "metadata": {},
   "outputs": [
    {
     "data": {
      "text/html": [
       "<div>\n",
       "<style scoped>\n",
       "    .dataframe tbody tr th:only-of-type {\n",
       "        vertical-align: middle;\n",
       "    }\n",
       "\n",
       "    .dataframe tbody tr th {\n",
       "        vertical-align: top;\n",
       "    }\n",
       "\n",
       "    .dataframe thead th {\n",
       "        text-align: right;\n",
       "    }\n",
       "</style>\n",
       "<table border=\"1\" class=\"dataframe\">\n",
       "  <thead>\n",
       "    <tr style=\"text-align: right;\">\n",
       "      <th></th>\n",
       "      <th>id</th>\n",
       "      <th>location name</th>\n",
       "      <th>type</th>\n",
       "      <th>title</th>\n",
       "      <th>features</th>\n",
       "      <th>pool</th>\n",
       "      <th>sea view</th>\n",
       "      <th>garage</th>\n",
       "    </tr>\n",
       "  </thead>\n",
       "  <tbody>\n",
       "    <tr>\n",
       "      <th>0</th>\n",
       "      <td>44525</td>\n",
       "      <td>golden mile</td>\n",
       "      <td>villa</td>\n",
       "      <td>Stunning 6 bedroom villa in the heart of the G...</td>\n",
       "      <td></td>\n",
       "      <td>0</td>\n",
       "      <td>0</td>\n",
       "      <td>0</td>\n",
       "    </tr>\n",
       "    <tr>\n",
       "      <th>1</th>\n",
       "      <td>44859</td>\n",
       "      <td>golden mile</td>\n",
       "      <td>villa</td>\n",
       "      <td>Villa for sale in Rocio de Nagüeles, Marbella ...</td>\n",
       "      <td></td>\n",
       "      <td>0</td>\n",
       "      <td>0</td>\n",
       "      <td>0</td>\n",
       "    </tr>\n",
       "    <tr>\n",
       "      <th>2</th>\n",
       "      <td>45465</td>\n",
       "      <td>nagueles</td>\n",
       "      <td>villa</td>\n",
       "      <td>One level 5 bedroom villa for sale in Nagüeles</td>\n",
       "      <td></td>\n",
       "      <td>0</td>\n",
       "      <td>0</td>\n",
       "      <td>0</td>\n",
       "    </tr>\n",
       "    <tr>\n",
       "      <th>3</th>\n",
       "      <td>50685</td>\n",
       "      <td>nagueles</td>\n",
       "      <td>estate</td>\n",
       "      <td>Large estate for sale in Rocio de Nagueles</td>\n",
       "      <td></td>\n",
       "      <td>0</td>\n",
       "      <td>0</td>\n",
       "      <td>0</td>\n",
       "    </tr>\n",
       "    <tr>\n",
       "      <th>4</th>\n",
       "      <td>130728</td>\n",
       "      <td>golden mile</td>\n",
       "      <td>villa</td>\n",
       "      <td>Palatial Villa on Marbellas Golden Mile with ...</td>\n",
       "      <td>Fireplace, Elevator, Terrace, Mountain view, F...</td>\n",
       "      <td>0</td>\n",
       "      <td>0</td>\n",
       "      <td>0</td>\n",
       "    </tr>\n",
       "  </tbody>\n",
       "</table>\n",
       "</div>"
      ],
      "text/plain": [
       "       id location name    type  \\\n",
       "0   44525   golden mile   villa   \n",
       "1   44859   golden mile   villa   \n",
       "2   45465      nagueles   villa   \n",
       "3   50685      nagueles  estate   \n",
       "4  130728   golden mile   villa   \n",
       "\n",
       "                                               title  \\\n",
       "0  Stunning 6 bedroom villa in the heart of the G...   \n",
       "1  Villa for sale in Rocio de Nagüeles, Marbella ...   \n",
       "2     One level 5 bedroom villa for sale in Nagüeles   \n",
       "3         Large estate for sale in Rocio de Nagueles   \n",
       "4  Palatial Villa on Marbellas Golden Mile with ...   \n",
       "\n",
       "                                            features  pool  sea view  garage  \n",
       "0                                                        0         0       0  \n",
       "1                                                        0         0       0  \n",
       "2                                                        0         0       0  \n",
       "3                                                        0         0       0  \n",
       "4  Fireplace, Elevator, Terrace, Mountain view, F...     0         0       0  "
      ]
     },
     "execution_count": 264,
     "metadata": {},
     "output_type": "execute_result"
    }
   ],
   "source": [
    "property_df = pd.DataFrame()\n",
    "property_df['id'] = props['id']\n",
    "property_df['location name'] = props['title'].map(B_1)\n",
    "property_df['type'] = props['title'].map(A_1)\n",
    "property_df['title'] = props['title']\n",
    "property_df['features'] = props['features'].map(lambda feat: feat if type(feat) is str else '')\n",
    "resp = props['features'].map(C_1)\n",
    "property_df['pool'] = resp.map(lambda tup: tup[0])\n",
    "property_df['sea view'] = resp.map(lambda tup: tup[1])\n",
    "property_df['garage'] = resp.map(lambda tup: tup[2])\n",
    "property_df.head()"
   ]
  },
  {
   "cell_type": "code",
   "execution_count": 265,
   "metadata": {},
   "outputs": [],
   "source": [
    "property_df.to_csv('property.csv')"
   ]
  },
  {
   "cell_type": "markdown",
   "metadata": {
    "colab_type": "text",
    "id": "WS_0w3NAXTZc"
   },
   "source": [
    "#### Part 2: Identify outliers\n",
    "Now that the data is structured correctly, let's look at which properties are a  good deal for our investor. For this you will need to **identify undervalued, overvalued, and normal properties** in the dataset. Remember that a  undervalued house in one location can be considered a high outlier in another location. Location and type classifications are important in this task.\n",
    "#### Expected Outcome for Part 2:\n",
    "- As before, deliver a csv file with the following format:\n",
    "  - id\n",
    "  - location name\n",
    "  - type\n",
    "  - area\n",
    "  - price\n",
    "  - over-valued (0/1)\n",
    "  - under-valued (0/1)\n",
    "  - normal (0/1)\n",
    "- the new columns should be binary, where for example **over-valued** column would get value 1 if the property is indeed over-valued, 0 otherwise;\n",
    "- A short report (could be a pdf file or new cells within the notebook) containing:\n",
    "  - visualizations (such as scatter plots) discriminating between the undervalued, overvalued and normal properties.\n",
    "  - a explanation of what is the difference between under-valued/over-valued properties and pure data outliers;\n",
    "  - any notes/conclusions you wish to add;\n",
    "- Provide your code in a reproducible way in the cells below;"
   ]
  },
  {
   "cell_type": "code",
   "execution_count": 218,
   "metadata": {
    "scrolled": false
   },
   "outputs": [
    {
     "data": {
      "text/html": [
       "<div>\n",
       "<style scoped>\n",
       "    .dataframe tbody tr th:only-of-type {\n",
       "        vertical-align: middle;\n",
       "    }\n",
       "\n",
       "    .dataframe tbody tr th {\n",
       "        vertical-align: top;\n",
       "    }\n",
       "\n",
       "    .dataframe thead th {\n",
       "        text-align: right;\n",
       "    }\n",
       "</style>\n",
       "<table border=\"1\" class=\"dataframe\">\n",
       "  <thead>\n",
       "    <tr style=\"text-align: right;\">\n",
       "      <th></th>\n",
       "      <th>apartment</th>\n",
       "      <th>duplex</th>\n",
       "      <th>estate</th>\n",
       "      <th>house</th>\n",
       "      <th>land</th>\n",
       "      <th>moradia</th>\n",
       "      <th>penthouse</th>\n",
       "      <th>plot</th>\n",
       "      <th>quinta</th>\n",
       "      <th>villa</th>\n",
       "    </tr>\n",
       "    <tr>\n",
       "      <th>location</th>\n",
       "      <th></th>\n",
       "      <th></th>\n",
       "      <th></th>\n",
       "      <th></th>\n",
       "      <th></th>\n",
       "      <th></th>\n",
       "      <th></th>\n",
       "      <th></th>\n",
       "      <th></th>\n",
       "      <th></th>\n",
       "    </tr>\n",
       "  </thead>\n",
       "  <tbody>\n",
       "    <tr>\n",
       "      <th>golden mile</th>\n",
       "      <td>231</td>\n",
       "      <td>10</td>\n",
       "      <td>0</td>\n",
       "      <td>196</td>\n",
       "      <td>0</td>\n",
       "      <td>0</td>\n",
       "      <td>0</td>\n",
       "      <td>9</td>\n",
       "      <td>0</td>\n",
       "      <td>232</td>\n",
       "    </tr>\n",
       "    <tr>\n",
       "      <th>quinta da marinha</th>\n",
       "      <td>0</td>\n",
       "      <td>0</td>\n",
       "      <td>0</td>\n",
       "      <td>69</td>\n",
       "      <td>0</td>\n",
       "      <td>0</td>\n",
       "      <td>0</td>\n",
       "      <td>3</td>\n",
       "      <td>947</td>\n",
       "      <td>151</td>\n",
       "    </tr>\n",
       "    <tr>\n",
       "      <th>alenquer</th>\n",
       "      <td>92</td>\n",
       "      <td>9</td>\n",
       "      <td>0</td>\n",
       "      <td>87</td>\n",
       "      <td>79</td>\n",
       "      <td>304</td>\n",
       "      <td>0</td>\n",
       "      <td>0</td>\n",
       "      <td>36</td>\n",
       "      <td>148</td>\n",
       "    </tr>\n",
       "    <tr>\n",
       "      <th>nagueles</th>\n",
       "      <td>784</td>\n",
       "      <td>2</td>\n",
       "      <td>3</td>\n",
       "      <td>773</td>\n",
       "      <td>2</td>\n",
       "      <td>0</td>\n",
       "      <td>0</td>\n",
       "      <td>57</td>\n",
       "      <td>0</td>\n",
       "      <td>685</td>\n",
       "    </tr>\n",
       "  </tbody>\n",
       "</table>\n",
       "</div>"
      ],
      "text/plain": [
       "                   apartment  duplex  estate  house  land  moradia  penthouse  \\\n",
       "location                                                                        \n",
       "golden mile              231      10       0    196     0        0          0   \n",
       "quinta da marinha          0       0       0     69     0        0          0   \n",
       "alenquer                  92       9       0     87    79      304          0   \n",
       "nagueles                 784       2       3    773     2        0          0   \n",
       "\n",
       "                   plot  quinta  villa  \n",
       "location                                \n",
       "golden mile           9       0    232  \n",
       "quinta da marinha     3     947    151  \n",
       "alenquer              0      36    148  \n",
       "nagueles             57       0    685  "
      ]
     },
     "execution_count": 218,
     "metadata": {},
     "output_type": "execute_result"
    }
   ],
   "source": [
    "temp_df = property_df[['location name', 'type']]\n",
    "occurrences = []\n",
    "for location in property_locations:\n",
    "    curr = {}\n",
    "    curr['location'] = location\n",
    "    for curr_type in property_types:\n",
    "        curr[curr_type] = len(temp_df[(temp_df['location name'] == location) & (temp_df['type'] == curr_type)])\n",
    "    occurrences.append(curr)\n",
    "new_df = pd.DataFrame(occurrences)\n",
    "new_df = new_df.set_index('location')\n",
    "new_df"
   ]
  },
  {
   "cell_type": "code",
   "execution_count": 259,
   "metadata": {},
   "outputs": [
    {
     "data": {
      "text/plain": [
       "<matplotlib.axes._subplots.AxesSubplot at 0x13e637cc0>"
      ]
     },
     "execution_count": 259,
     "metadata": {},
     "output_type": "execute_result"
    },
    {
     "data": {
      "image/png": "[encoded data removed]",
      "text/plain": [
       "<Figure size 432x288 with 1 Axes>"
      ]
     },
     "metadata": {
      "needs_background": "light"
     },
     "output_type": "display_data"
    }
   ],
   "source": [
    "new_df.plot.bar()"
   ]
  },
  {
   "cell_type": "code",
   "execution_count": 256,
   "metadata": {},
   "outputs": [
    {
     "data": {
      "text/plain": [
       "Text(0, 0.5, 'golden mile')"
      ]
     },
     "execution_count": 256,
     "metadata": {},
     "output_type": "execute_result"
    },
    {
     "data": {
      "image/png": "[encoded data removed]",
      "text/plain": [
       "<Figure size 864x576 with 1 Axes>"
      ]
     },
     "metadata": {
      "needs_background": "light"
     },
     "output_type": "display_data"
    }
   ],
   "source": [
    "plt.figure(figsize=(12, 8))\n",
    "sns.barplot(data=new_df.loc[['golden mile']])\n",
    "plt.ylabel('golden mile')"
   ]
  },
  {
   "cell_type": "code",
   "execution_count": 257,
   "metadata": {},
   "outputs": [
    {
     "data": {
      "text/plain": [
       "Text(0, 0.5, 'quinta da marinha')"
      ]
     },
     "execution_count": 257,
     "metadata": {},
     "output_type": "execute_result"
    },
    {
     "data": {
      "image/png": "[encoded data removed]",
      "text/plain": [
       "<Figure size 864x576 with 1 Axes>"
      ]
     },
     "metadata": {
      "needs_background": "light"
     },
     "output_type": "display_data"
    }
   ],
   "source": [
    "plt.figure(figsize=(12, 8))\n",
    "sns.barplot(data=new_df.loc[['quinta da marinha']])\n",
    "plt.ylabel('quinta da marinha')"
   ]
  },
  {
   "cell_type": "code",
   "execution_count": 258,
   "metadata": {},
   "outputs": [
    {
     "data": {
      "text/plain": [
       "Text(0, 0.5, 'alenquer')"
      ]
     },
     "execution_count": 258,
     "metadata": {},
     "output_type": "execute_result"
    },
    {
     "data": {
      "image/png": "[encoded data removed]",
      "text/plain": [
       "<Figure size 864x576 with 1 Axes>"
      ]
     },
     "metadata": {
      "needs_background": "light"
     },
     "output_type": "display_data"
    }
   ],
   "source": [
    "plt.figure(figsize=(12, 8))\n",
    "sns.barplot(data=new_df.loc[['alenquer']])\n",
    "plt.ylabel('alenquer')"
   ]
  },
  {
   "cell_type": "code",
   "execution_count": 260,
   "metadata": {},
   "outputs": [
    {
     "data": {
      "text/plain": [
       "Text(0, 0.5, 'nagueles')"
      ]
     },
     "execution_count": 260,
     "metadata": {},
     "output_type": "execute_result"
    },
    {
     "data": {
      "image/png": "[encoded data removed]",
      "text/plain": [
       "<Figure size 864x576 with 1 Axes>"
      ]
     },
     "metadata": {
      "needs_background": "light"
     },
     "output_type": "display_data"
    }
   ],
   "source": [
    "plt.figure(figsize=(12, 8))\n",
    "sns.barplot(data=new_df.loc[['nagueles']])\n",
    "plt.ylabel('nagueles')"
   ]
  },
  {
   "cell_type": "code",
   "execution_count": 254,
   "metadata": {},
   "outputs": [
    {
     "data": {
      "text/html": [
       "<div>\n",
       "<style scoped>\n",
       "    .dataframe tbody tr th:only-of-type {\n",
       "        vertical-align: middle;\n",
       "    }\n",
       "\n",
       "    .dataframe tbody tr th {\n",
       "        vertical-align: top;\n",
       "    }\n",
       "\n",
       "    .dataframe thead th {\n",
       "        text-align: right;\n",
       "    }\n",
       "</style>\n",
       "<table border=\"1\" class=\"dataframe\">\n",
       "  <thead>\n",
       "    <tr style=\"text-align: right;\">\n",
       "      <th></th>\n",
       "      <th>apartment</th>\n",
       "      <th>duplex</th>\n",
       "      <th>estate</th>\n",
       "      <th>house</th>\n",
       "      <th>land</th>\n",
       "      <th>moradia</th>\n",
       "      <th>penthouse</th>\n",
       "      <th>plot</th>\n",
       "      <th>quinta</th>\n",
       "      <th>villa</th>\n",
       "      <th>mean</th>\n",
       "    </tr>\n",
       "    <tr>\n",
       "      <th>location</th>\n",
       "      <th></th>\n",
       "      <th></th>\n",
       "      <th></th>\n",
       "      <th></th>\n",
       "      <th></th>\n",
       "      <th></th>\n",
       "      <th></th>\n",
       "      <th></th>\n",
       "      <th></th>\n",
       "      <th></th>\n",
       "      <th></th>\n",
       "    </tr>\n",
       "  </thead>\n",
       "  <tbody>\n",
       "    <tr>\n",
       "      <th>golden mile</th>\n",
       "      <td>231</td>\n",
       "      <td>10</td>\n",
       "      <td>0</td>\n",
       "      <td>196</td>\n",
       "      <td>0</td>\n",
       "      <td>0</td>\n",
       "      <td>0</td>\n",
       "      <td>9</td>\n",
       "      <td>0</td>\n",
       "      <td>232</td>\n",
       "      <td>62.454545</td>\n",
       "    </tr>\n",
       "    <tr>\n",
       "      <th>quinta da marinha</th>\n",
       "      <td>0</td>\n",
       "      <td>0</td>\n",
       "      <td>0</td>\n",
       "      <td>69</td>\n",
       "      <td>0</td>\n",
       "      <td>0</td>\n",
       "      <td>0</td>\n",
       "      <td>3</td>\n",
       "      <td>947</td>\n",
       "      <td>151</td>\n",
       "      <td>106.363636</td>\n",
       "    </tr>\n",
       "    <tr>\n",
       "      <th>alenquer</th>\n",
       "      <td>92</td>\n",
       "      <td>9</td>\n",
       "      <td>0</td>\n",
       "      <td>87</td>\n",
       "      <td>79</td>\n",
       "      <td>304</td>\n",
       "      <td>0</td>\n",
       "      <td>0</td>\n",
       "      <td>36</td>\n",
       "      <td>148</td>\n",
       "      <td>75.818182</td>\n",
       "    </tr>\n",
       "    <tr>\n",
       "      <th>nagueles</th>\n",
       "      <td>784</td>\n",
       "      <td>2</td>\n",
       "      <td>3</td>\n",
       "      <td>773</td>\n",
       "      <td>2</td>\n",
       "      <td>0</td>\n",
       "      <td>0</td>\n",
       "      <td>57</td>\n",
       "      <td>0</td>\n",
       "      <td>685</td>\n",
       "      <td>209.909091</td>\n",
       "    </tr>\n",
       "  </tbody>\n",
       "</table>\n",
       "</div>"
      ],
      "text/plain": [
       "                   apartment  duplex  estate  house  land  moradia  penthouse  \\\n",
       "location                                                                        \n",
       "golden mile              231      10       0    196     0        0          0   \n",
       "quinta da marinha          0       0       0     69     0        0          0   \n",
       "alenquer                  92       9       0     87    79      304          0   \n",
       "nagueles                 784       2       3    773     2        0          0   \n",
       "\n",
       "                   plot  quinta  villa        mean  \n",
       "location                                            \n",
       "golden mile           9       0    232   62.454545  \n",
       "quinta da marinha     3     947    151  106.363636  \n",
       "alenquer              0      36    148   75.818182  \n",
       "nagueles             57       0    685  209.909091  "
      ]
     },
     "execution_count": 254,
     "metadata": {},
     "output_type": "execute_result"
    }
   ],
   "source": [
    "new_df['mean'] = new_df.apply(lambda row: row.mean(),axis=1)\n",
    "new_df"
   ]
  },
  {
   "cell_type": "code",
   "execution_count": 301,
   "metadata": {},
   "outputs": [],
   "source": [
    "def discoverOutliers(row):\n",
    "    if row['type'] == 'NA':\n",
    "        return (0, 0, 0)\n",
    "    curr_location = new_df.loc[row['location name']]\n",
    "    count = curr_location[row['type']]\n",
    "    mean = curr_location['mean']\n",
    "    treshhold = mean * .25\n",
    "    if count >= mean - treshhold and count <= mean + treshhold:\n",
    "        return (0, 1, 0)\n",
    "    return (1, 0, 0) if count < mean else (0, 0, 1)"
   ]
  },
  {
   "cell_type": "code",
   "execution_count": 320,
   "metadata": {},
   "outputs": [],
   "source": [
    "def getArea(row):\n",
    "    tip = row['type']\n",
    "    if tip == 'NA':\n",
    "        return -1\n",
    "    area1 = set('plots')\n",
    "    area2 = set(['apartments','houses'])\n",
    "    group = property_groups[tip]\n",
    "    curr_prop = props[props['id'] == row['id']].iloc[0]\n",
    "    if group in area1:\n",
    "        return curr_prop['plot_area']\n",
    "    elif group in area2:\n",
    "        return max(curr_prop['total_area'], curr_prop['living_area'])\n",
    "    else:\n",
    "        -1"
   ]
  },
  {
   "cell_type": "code",
   "execution_count": 321,
   "metadata": {},
   "outputs": [
    {
     "data": {
      "text/html": [
       "<div>\n",
       "<style scoped>\n",
       "    .dataframe tbody tr th:only-of-type {\n",
       "        vertical-align: middle;\n",
       "    }\n",
       "\n",
       "    .dataframe tbody tr th {\n",
       "        vertical-align: top;\n",
       "    }\n",
       "\n",
       "    .dataframe thead th {\n",
       "        text-align: right;\n",
       "    }\n",
       "</style>\n",
       "<table border=\"1\" class=\"dataframe\">\n",
       "  <thead>\n",
       "    <tr style=\"text-align: right;\">\n",
       "      <th></th>\n",
       "      <th>id</th>\n",
       "      <th>location name</th>\n",
       "      <th>type</th>\n",
       "      <th>area</th>\n",
       "      <th>price</th>\n",
       "      <th>over-valued</th>\n",
       "      <th>under-valued</th>\n",
       "      <th>normal</th>\n",
       "    </tr>\n",
       "  </thead>\n",
       "  <tbody>\n",
       "    <tr>\n",
       "      <th>0</th>\n",
       "      <td>44525</td>\n",
       "      <td>golden mile</td>\n",
       "      <td>villa</td>\n",
       "      <td>918.0</td>\n",
       "      <td>4400000</td>\n",
       "      <td>1</td>\n",
       "      <td>0</td>\n",
       "      <td>0</td>\n",
       "    </tr>\n",
       "    <tr>\n",
       "      <th>1</th>\n",
       "      <td>44859</td>\n",
       "      <td>golden mile</td>\n",
       "      <td>villa</td>\n",
       "      <td>NaN</td>\n",
       "      <td>2400000</td>\n",
       "      <td>1</td>\n",
       "      <td>0</td>\n",
       "      <td>0</td>\n",
       "    </tr>\n",
       "    <tr>\n",
       "      <th>2</th>\n",
       "      <td>45465</td>\n",
       "      <td>nagueles</td>\n",
       "      <td>villa</td>\n",
       "      <td>393.0</td>\n",
       "      <td>1900000</td>\n",
       "      <td>1</td>\n",
       "      <td>0</td>\n",
       "      <td>0</td>\n",
       "    </tr>\n",
       "    <tr>\n",
       "      <th>3</th>\n",
       "      <td>50685</td>\n",
       "      <td>nagueles</td>\n",
       "      <td>estate</td>\n",
       "      <td>640.0</td>\n",
       "      <td>4250000</td>\n",
       "      <td>0</td>\n",
       "      <td>1</td>\n",
       "      <td>0</td>\n",
       "    </tr>\n",
       "    <tr>\n",
       "      <th>4</th>\n",
       "      <td>130728</td>\n",
       "      <td>golden mile</td>\n",
       "      <td>villa</td>\n",
       "      <td>4903.0</td>\n",
       "      <td>32000000</td>\n",
       "      <td>1</td>\n",
       "      <td>0</td>\n",
       "      <td>0</td>\n",
       "    </tr>\n",
       "  </tbody>\n",
       "</table>\n",
       "</div>"
      ],
      "text/plain": [
       "       id location name    type    area     price  over-valued  under-valued  \\\n",
       "0   44525   golden mile   villa   918.0   4400000            1             0   \n",
       "1   44859   golden mile   villa     NaN   2400000            1             0   \n",
       "2   45465      nagueles   villa   393.0   1900000            1             0   \n",
       "3   50685      nagueles  estate   640.0   4250000            0             1   \n",
       "4  130728   golden mile   villa  4903.0  32000000            1             0   \n",
       "\n",
       "   normal  \n",
       "0       0  \n",
       "1       0  \n",
       "2       0  \n",
       "3       0  \n",
       "4       0  "
      ]
     },
     "execution_count": 321,
     "metadata": {},
     "output_type": "execute_result"
    }
   ],
   "source": [
    "outliers_df = pd.DataFrame()\n",
    "outliers_df['id'] = property_df['id']\n",
    "outliers_df['location name'] = property_df['location name']\n",
    "outliers_df['type'] = property_df['type']\n",
    "outs = property_df[['location name', 'type']].apply(discoverOutliers, axis=1)\n",
    "outliers_df['area'] = property_df.apply(getArea, axis=1)\n",
    "outliers_df['price'] = props[props['id'] == property_df['id']]['price']\n",
    "outliers_df['over-valued'] = outs.map(lambda x: x[2])\n",
    "outliers_df['under-valued'] = outs.map(lambda x: x[0])\n",
    "outliers_df['normal'] = outs.map(lambda x: x[1])\n",
    "outliers_df.head()"
   ]
  },
  {
   "cell_type": "code",
   "execution_count": 322,
   "metadata": {},
   "outputs": [],
   "source": [
    "outliers_df.to_csv('outliers.csv')"
   ]
  },
  {
   "cell_type": "markdown",
   "metadata": {
    "colab_type": "text",
    "id": "_m0oYlVUXWqI"
   },
   "source": [
    "#### Part 3: Theoretical questions\n",
    "\n",
    "- Describe in detail how you would evaluate the price impact of features such as sea view, pool and garage considering the dataset provided. Your answer should also include how would you deal with missing values, outliers and duplicated listings (same property listing published by different agencies);\n"
   ]
  },
  {
   "cell_type": "markdown",
   "metadata": {
    "colab": {},
    "colab_type": "code",
    "id": "pRh5IOYBvzic"
   },
   "source": [
    "#### Part 4: Create a model to estimate the price of the properties based on the features you consider. You can use linear, polynomial, multivariate or tree regressors. "
   ]
  },
  {
   "cell_type": "code",
   "execution_count": null,
   "metadata": {},
   "outputs": [],
   "source": []
  },
  {
   "cell_type": "markdown",
   "metadata": {
    "colab_type": "text",
    "id": "WEJZaN7uXaJ4"
   },
   "source": [
    "#### Extra challenge 5:\n",
    "- Describe how would you model the data over time (using createdAt field). What changes over time would you look for and what would you expect the outcomes to be? (i.e. in terms of pricing per location/type)"
   ]
  },
  {
   "cell_type": "code",
   "execution_count": 0,
   "metadata": {
    "colab": {},
    "colab_type": "code",
    "id": "H63ckTpFr-5_"
   },
   "outputs": [],
   "source": []
  }
 ],
 "metadata": {
  "colab": {
   "collapsed_sections": [],
   "name": "Armando Cuevas_CasafariTest_ProductDataScientist.ipynb",
   "provenance": [],
   "toc_visible": true,
   "version": "0.3.2"
  },
  "kernelspec": {
   "display_name": "Python 3",
   "language": "python",
   "name": "python3"
  },
  "language_info": {
   "codemirror_mode": {
    "name": "ipython",
    "version": 3
   },
   "file_extension": ".py",
   "mimetype": "text/x-python",
   "name": "python",
   "nbconvert_exporter": "python",
   "pygments_lexer": "ipython3",
   "version": "3.7.1"
  }
 },
 "nbformat": 4,
 "nbformat_minor": 1
}
