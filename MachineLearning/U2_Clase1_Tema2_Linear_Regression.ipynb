{
 "cells": [
  {
   "cell_type": "markdown",
   "metadata": {},
   "source": [
    "# Linear Regression"
   ]
  },
  {
   "cell_type": "markdown",
   "metadata": {},
   "source": [
    "### Loading data"
   ]
  },
  {
   "cell_type": "code",
   "execution_count": 1,
   "metadata": {},
   "outputs": [],
   "source": [
    "import numpy as np\n",
    "\n",
    "filename = 'data_singlevar.txt'\n",
    "X = []\n",
    "y = []\n",
    "with open(filename, 'r') as f:\n",
    "    for line in f.readlines():\n",
    "        xt, yt = [float(i) for i in line.split(',')]\n",
    "        X.append(xt)\n",
    "        y.append(yt)"
   ]
  },
  {
   "cell_type": "markdown",
   "metadata": {},
   "source": [
    "# Splitting Data: Method_1"
   ]
  },
  {
   "cell_type": "code",
   "execution_count": 2,
   "metadata": {},
   "outputs": [],
   "source": [
    "# Train/test split\n",
    "num_training = int(0.8 * len(X))\n",
    "num_test = len(X) - num_training\n",
    "\n",
    "# Training data\n",
    "X_train = np.array(X[:num_training]).reshape((num_training,1))\n",
    "y_train = np.array(y[:num_training])\n",
    "\n",
    "# Test data\n",
    "X_test = np.array(X[num_training:]).reshape((num_test,1))\n",
    "y_test = np.array(y[num_training:])"
   ]
  },
  {
   "cell_type": "code",
   "execution_count": 3,
   "metadata": {},
   "outputs": [
    {
     "data": {
      "text/plain": [
       "array([[ 4.94],\n",
       "       [-1.58],\n",
       "       [-4.45],\n",
       "       [-6.06],\n",
       "       [-1.22],\n",
       "       [-3.55],\n",
       "       [ 0.36],\n",
       "       [-3.24],\n",
       "       [ 1.31],\n",
       "       [ 2.17],\n",
       "       [ 2.94],\n",
       "       [-0.92],\n",
       "       [-0.91],\n",
       "       [ 1.24],\n",
       "       [ 1.56],\n",
       "       [-4.14],\n",
       "       [ 3.75],\n",
       "       [ 4.15],\n",
       "       [ 0.33],\n",
       "       [ 3.41],\n",
       "       [ 2.27],\n",
       "       [ 2.6 ],\n",
       "       [ 1.06],\n",
       "       [ 1.04],\n",
       "       [ 2.74],\n",
       "       [-0.71],\n",
       "       [-2.75],\n",
       "       [ 0.55],\n",
       "       [-3.45],\n",
       "       [ 1.09],\n",
       "       [ 2.47],\n",
       "       [-6.35],\n",
       "       [ 1.83],\n",
       "       [-0.68],\n",
       "       [-3.83],\n",
       "       [-2.03],\n",
       "       [ 3.13],\n",
       "       [ 0.92],\n",
       "       [ 4.02],\n",
       "       [ 3.89]])"
      ]
     },
     "execution_count": 3,
     "metadata": {},
     "output_type": "execute_result"
    }
   ],
   "source": [
    "X_train"
   ]
  },
  {
   "cell_type": "code",
   "execution_count": 4,
   "metadata": {},
   "outputs": [
    {
     "data": {
      "text/plain": [
       "array([4.37, 1.7 , 1.88, 0.56, 2.23, 1.53, 2.99, 0.48, 2.76, 3.99, 3.25,\n",
       "       2.27, 2.  , 4.75, 3.52, 1.39, 4.9 , 4.44, 2.72, 4.59, 5.3 , 3.43,\n",
       "       2.53, 3.69, 3.1 , 2.72, 2.82, 3.53, 1.77, 4.61, 4.24, 1.  , 3.84,\n",
       "       2.42, 0.67, 1.07, 3.19, 4.21, 5.24, 3.94])"
      ]
     },
     "execution_count": 4,
     "metadata": {},
     "output_type": "execute_result"
    }
   ],
   "source": [
    "y_train"
   ]
  },
  {
   "cell_type": "markdown",
   "metadata": {},
   "source": [
    "# Splitting Data: Method_2 using sklearn"
   ]
  },
  {
   "cell_type": "code",
   "execution_count": 5,
   "metadata": {},
   "outputs": [],
   "source": [
    "import numpy as np\n",
    "import pandas as pd\n",
    "\n",
    "# Importing the dataset\n",
    "dataset = pd.read_csv('data_singlevar.txt', header= None)"
   ]
  },
  {
   "cell_type": "code",
   "execution_count": 6,
   "metadata": {},
   "outputs": [
    {
     "data": {
      "text/html": [
       "<div>\n",
       "<style scoped>\n",
       "    .dataframe tbody tr th:only-of-type {\n",
       "        vertical-align: middle;\n",
       "    }\n",
       "\n",
       "    .dataframe tbody tr th {\n",
       "        vertical-align: top;\n",
       "    }\n",
       "\n",
       "    .dataframe thead th {\n",
       "        text-align: right;\n",
       "    }\n",
       "</style>\n",
       "<table border=\"1\" class=\"dataframe\">\n",
       "  <thead>\n",
       "    <tr style=\"text-align: right;\">\n",
       "      <th></th>\n",
       "      <th>0</th>\n",
       "      <th>1</th>\n",
       "    </tr>\n",
       "  </thead>\n",
       "  <tbody>\n",
       "    <tr>\n",
       "      <th>0</th>\n",
       "      <td>4.94</td>\n",
       "      <td>4.37</td>\n",
       "    </tr>\n",
       "    <tr>\n",
       "      <th>1</th>\n",
       "      <td>-1.58</td>\n",
       "      <td>1.70</td>\n",
       "    </tr>\n",
       "    <tr>\n",
       "      <th>2</th>\n",
       "      <td>-4.45</td>\n",
       "      <td>1.88</td>\n",
       "    </tr>\n",
       "    <tr>\n",
       "      <th>3</th>\n",
       "      <td>-6.06</td>\n",
       "      <td>0.56</td>\n",
       "    </tr>\n",
       "    <tr>\n",
       "      <th>4</th>\n",
       "      <td>-1.22</td>\n",
       "      <td>2.23</td>\n",
       "    </tr>\n",
       "  </tbody>\n",
       "</table>\n",
       "</div>"
      ],
      "text/plain": [
       "      0     1\n",
       "0  4.94  4.37\n",
       "1 -1.58  1.70\n",
       "2 -4.45  1.88\n",
       "3 -6.06  0.56\n",
       "4 -1.22  2.23"
      ]
     },
     "execution_count": 6,
     "metadata": {},
     "output_type": "execute_result"
    }
   ],
   "source": [
    "dataset.head()"
   ]
  },
  {
   "cell_type": "code",
   "execution_count": 7,
   "metadata": {},
   "outputs": [],
   "source": [
    "X = dataset.iloc[:, :1].values  # para que nos de un vector 2D y no un array 1D\n",
    "                                # (por esa razon no es X = dataset.iloc[:, 0].values)\n",
    "y = dataset.iloc[:, 1].values\n"
   ]
  },
  {
   "cell_type": "code",
   "execution_count": 8,
   "metadata": {},
   "outputs": [
    {
     "name": "stdout",
     "output_type": "stream",
     "text": [
      "(50, 1)\n",
      "(50,)\n"
     ]
    }
   ],
   "source": [
    "print(X.shape)\n",
    "print(y.shape)"
   ]
  },
  {
   "cell_type": "code",
   "execution_count": 11,
   "metadata": {},
   "outputs": [],
   "source": [
    "# Splitting the dataset into the Training set and Test set\n",
    "from sklearn.model_selection  import train_test_split\n",
    "X_train, X_test, y_train, y_test = train_test_split(X, y, test_size = 0.2, random_state = 0)"
   ]
  },
  {
   "cell_type": "code",
   "execution_count": 12,
   "metadata": {},
   "outputs": [
    {
     "data": {
      "text/plain": [
       "(10, 1)"
      ]
     },
     "execution_count": 12,
     "metadata": {},
     "output_type": "execute_result"
    }
   ],
   "source": [
    "X_test.shape"
   ]
  },
  {
   "cell_type": "markdown",
   "metadata": {},
   "source": [
    "## Create linear regression object\n"
   ]
  },
  {
   "cell_type": "markdown",
   "metadata": {},
   "source": [
    "When creating a machine learning model with scikitlearn (sklearn) we need always to:\n",
    "1. Create a ML model object from the libraries\n",
    "2. Train the model with the data using .fit method\n",
    "3. Predict values/classes using .predict or transform method (depending on the model)\n",
    "4. Test the model and get metrics of performance"
   ]
  },
  {
   "cell_type": "markdown",
   "metadata": {},
   "source": [
    "#### 1. Create a ML model object from the libraries"
   ]
  },
  {
   "cell_type": "code",
   "execution_count": 13,
   "metadata": {},
   "outputs": [],
   "source": [
    "from sklearn import linear_model\n",
    "\n",
    "linear_regressor = linear_model.LinearRegression()"
   ]
  },
  {
   "cell_type": "markdown",
   "metadata": {},
   "source": [
    "#### 2. Train the model using the training sets with \".fit\" method\n"
   ]
  },
  {
   "cell_type": "code",
   "execution_count": 14,
   "metadata": {},
   "outputs": [
    {
     "data": {
      "text/plain": [
       "LinearRegression(copy_X=True, fit_intercept=True, n_jobs=None,\n",
       "         normalize=False)"
      ]
     },
     "execution_count": 14,
     "metadata": {},
     "output_type": "execute_result"
    }
   ],
   "source": [
    "linear_regressor.fit(X_train, y_train)"
   ]
  },
  {
   "cell_type": "markdown",
   "metadata": {},
   "source": [
    "#### 3. Predict values from training data"
   ]
  },
  {
   "cell_type": "code",
   "execution_count": 16,
   "metadata": {},
   "outputs": [
    {
     "data": {
      "image/png": "[encoded data removed]",
      "text/plain": [
       "<Figure size 432x288 with 1 Axes>"
      ]
     },
     "metadata": {
      "needs_background": "light"
     },
     "output_type": "display_data"
    }
   ],
   "source": [
    "import matplotlib.pyplot as plt\n",
    "\n",
    "# Predict the train data output\n",
    "y_train_pred = linear_regressor.predict(X_train)\n",
    "\n",
    "plt.figure()\n",
    "plt.scatter(X_train, y_train, color='green')\n",
    "plt.plot(X_train, y_train_pred, color='black', linewidth=4)\n",
    "plt.title('Training data')\n",
    "plt.show()\n",
    "\n",
    "\n"
   ]
  },
  {
   "cell_type": "markdown",
   "metadata": {},
   "source": [
    "#### 4. Predict values with test data and get performance results"
   ]
  },
  {
   "cell_type": "code",
   "execution_count": 17,
   "metadata": {},
   "outputs": [
    {
     "data": {
      "image/png": "[encoded data removed]",
      "text/plain": [
       "<Figure size 432x288 with 1 Axes>"
      ]
     },
     "metadata": {},
     "output_type": "display_data"
    },
    {
     "name": "stdout",
     "output_type": "stream",
     "text": [
      "Mean absolute error = 0.55\n",
      "Mean squared error = 0.39\n",
      "R2 score = 0.77\n"
     ]
    }
   ],
   "source": [
    "\n",
    "# Predict the test data output\n",
    "y_test_pred = linear_regressor.predict(X_test)\n",
    "\n",
    "\n",
    "plt.figure()\n",
    "\n",
    "plt.scatter(X_test, y_test, color='green')\n",
    "plt.plot(X_test, y_test_pred, color='black', linewidth=4)\n",
    "plt.title('Test data')\n",
    "plt.xticks(())\n",
    "plt.yticks(())\n",
    "plt.show()\n",
    "\n",
    "\n",
    "\n",
    "# Measure performance\n",
    "import sklearn.metrics as sm\n",
    "\n",
    "print('Mean absolute error =', round(sm.mean_absolute_error(y_test, y_test_pred), 2))\n",
    "print('Mean squared error =', round(sm.mean_squared_error(y_test, y_test_pred), 2))\n",
    "print('R2 score =', round(sm.r2_score(y_test, y_test_pred), 2))\n",
    "\n",
    "\n",
    "\n",
    "\n"
   ]
  },
  {
   "cell_type": "markdown",
   "metadata": {},
   "source": [
    "### Let's save the model and load it again"
   ]
  },
  {
   "cell_type": "code",
   "execution_count": 18,
   "metadata": {},
   "outputs": [
    {
     "name": "stdout",
     "output_type": "stream",
     "text": [
      "\n",
      "New mean absolute error = 0.55\n"
     ]
    }
   ],
   "source": [
    "# Model persistence\n",
    "import pickle as pickle\n",
    "\n",
    "output_model_file = '3_model_linear_regr.pkl'\n",
    "\n",
    "with open(output_model_file, 'wb') as f:\n",
    "    pickle.dump(linear_regressor, f)\n",
    "\n",
    "with open(output_model_file, 'rb') as f:\n",
    "    model_linregr = pickle.load(f)\n",
    "\n",
    "y_test_pred_new = model_linregr.predict(X_test)\n",
    "print('\\nNew mean absolute error =', round(sm.mean_absolute_error(y_test, y_test_pred_new), 2))\n"
   ]
  },
  {
   "cell_type": "markdown",
   "metadata": {},
   "source": [
    "If we would like to know the coefficients m,b"
   ]
  },
  {
   "cell_type": "code",
   "execution_count": 19,
   "metadata": {},
   "outputs": [
    {
     "name": "stdout",
     "output_type": "stream",
     "text": [
      "[0.43035297]\n",
      "2.8818411633661625\n"
     ]
    }
   ],
   "source": [
    "print(linear_regressor.coef_)\n",
    "print(linear_regressor.intercept_ )"
   ]
  },
  {
   "cell_type": "code",
   "execution_count": null,
   "metadata": {},
   "outputs": [],
   "source": []
  }
 ],
 "metadata": {
  "kernelspec": {
   "display_name": "Python 3",
   "language": "python",
   "name": "python3"
  },
  "language_info": {
   "codemirror_mode": {
    "name": "ipython",
    "version": 3
   },
   "file_extension": ".py",
   "mimetype": "text/x-python",
   "name": "python",
   "nbconvert_exporter": "python",
   "pygments_lexer": "ipython3",
   "version": "3.7.1"
  }
 },
 "nbformat": 4,
 "nbformat_minor": 2
}
