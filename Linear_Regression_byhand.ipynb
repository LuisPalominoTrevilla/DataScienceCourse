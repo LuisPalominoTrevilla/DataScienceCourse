{
 "cells": [
  {
   "cell_type": "markdown",
   "metadata": {},
   "source": [
    "# In this practice we will program a linear regression using for loops, functions and Lists"
   ]
  },
  {
   "cell_type": "markdown",
   "metadata": {},
   "source": [
    "It is not a practice on regression. It is a practice on general python programming."
   ]
  },
  {
   "cell_type": "markdown",
   "metadata": {},
   "source": [
    "A linear regression is when you fit a line to a collection of data points. The line that is \"closest\" to all the datapoints \n",
    "is the best regression.\n"
   ]
  },
  {
   "cell_type": "markdown",
   "metadata": {},
   "source": [
    "$y=m*x+b$\n",
    " \n",
    " formula for a line: $m$ is the slope, and $b$ is the intercept."
   ]
  },
  {
   "cell_type": "markdown",
   "metadata": {},
   "source": [
    "#### Create a function that takes m, b and x and return the y value for that x"
   ]
  },
  {
   "cell_type": "code",
   "execution_count": 6,
   "metadata": {},
   "outputs": [
    {
     "data": {
      "text/plain": [
       "14"
      ]
     },
     "execution_count": 6,
     "metadata": {},
     "output_type": "execute_result"
    }
   ],
   "source": [
    "def getY(m,b,x):\n",
    "    return m*x+b\n",
    "getY(3,2,4)"
   ]
  },
  {
   "cell_type": "markdown",
   "metadata": {},
   "source": [
    "#### Now, let's calculate the error between a data point and a line for a given x value"
   ]
  },
  {
   "cell_type": "markdown",
   "metadata": {},
   "source": [
    "We will create a function called $error$, which will take in $m$, $b$ and a datapoint $[x,y]$ and it will return the distance between the line and the point.\n",
    "\n",
    "To find the distance:\n",
    "1. Get the $x$-value from the point and store is in a variable called $x_{point}$\n",
    "2. Get the $y$-value from the point and store it in a variable called $y_{real}$\n",
    "3. Use the $y_{hat}$ function to get the y value that \"x_point\" would give on the line\n",
    "4. Find the difference between the y value from $y_{hat}$  and $y_{real}$\n",
    "5. Return the absolute value of the distance (absolute error)"
   ]
  },
  {
   "cell_type": "code",
   "execution_count": 9,
   "metadata": {},
   "outputs": [],
   "source": [
    "\n",
    "def error(m, b, dp):\n",
    "    xPoint, yReal = dp\n",
    "    yHat = getY(m, b, xPoint)\n",
    "    diff = abs(yHat-yReal)\n",
    "    return diff\n",
    "    "
   ]
  },
  {
   "cell_type": "code",
   "execution_count": 10,
   "metadata": {},
   "outputs": [
    {
     "name": "stdout",
     "output_type": "stream",
     "text": [
      "0\n",
      "1\n",
      "1\n",
      "5\n"
     ]
    }
   ],
   "source": [
    "\n",
    "print(error(1, 0, (3, 3))) #answer should be 0\n",
    "\n",
    "print(error(1, 0, (3, 4))) #answer should be 1\n",
    "\n",
    "print(error(1, -1, (3, 3))) #answer should be 1\n",
    "\n",
    "print(error(-1, 1, (3, 3))) #answer should be 5"
   ]
  },
  {
   "cell_type": "markdown",
   "metadata": {},
   "source": [
    "#### Next, we need to calculate the error of several datapoints against a line defined by some values of $m$, and $b$"
   ]
  },
  {
   "cell_type": "markdown",
   "metadata": {},
   "source": [
    "In this part you will be given a set of datapoints and values for $m$ and $b$ andyou should compute the total error.\n",
    "The total error is the sum of the individual errors for each datapoint.\n",
    "\n",
    "The datapoints will be given as an array of tuples: i.e [(1, 1), (3, 3), (5, 5), (-1, -1)]"
   ]
  },
  {
   "cell_type": "code",
   "execution_count": 37,
   "metadata": {},
   "outputs": [],
   "source": []
  },
  {
   "cell_type": "code",
   "execution_count": 11,
   "metadata": {},
   "outputs": [],
   "source": [
    "#You function goes here\n",
    "def all_error(m, b, dps):\n",
    "    errors = 0\n",
    "    for dp in dps:\n",
    "        errors += error(m, b, dp)\n",
    "    return errors"
   ]
  },
  {
   "cell_type": "code",
   "execution_count": 12,
   "metadata": {},
   "outputs": [
    {
     "name": "stdout",
     "output_type": "stream",
     "text": [
      "0\n",
      "4\n",
      "4\n",
      "18\n"
     ]
    }
   ],
   "source": [
    "\n",
    "datapoints = [(1, 1), (3, 3), (5, 5), (-1, -1)]\n",
    "print(all_error(1, 0, datapoints))\n",
    "# Answer should be 0\n",
    "\n",
    "datapoints = [(1, 1), (3, 3), (5, 5), (-1, -1)]\n",
    "print(all_error(1, 1, datapoints))\n",
    "# Answer should be 4\n",
    "\n",
    "datapoints = [(1, 1), (3, 3), (5, 5), (-1, -1)]\n",
    "print(all_error(1, -1, datapoints))\n",
    "# Answer should be 4\n",
    "\n",
    "\n",
    "datapoints = [(1, 1), (3, 3), (5, 5), (-1, -1)]\n",
    "print(all_error(-1, 1, datapoints))\n",
    "# Answer should be 18"
   ]
  },
  {
   "cell_type": "markdown",
   "metadata": {},
   "source": [
    "# Now we will find the $m$ and $b$ values that minimize the error"
   ]
  },
  {
   "cell_type": "markdown",
   "metadata": {},
   "source": [
    "Let's create a list of possible m values to try. Make the list possible_ms that goes from -10 to 10 inclusive, in increments of 0.1"
   ]
  },
  {
   "cell_type": "code",
   "execution_count": 36,
   "metadata": {},
   "outputs": [],
   "source": [
    "import numpy as np\n",
    "possible_ms = list(np.arange(-10,10.1,.1))"
   ]
  },
  {
   "cell_type": "markdown",
   "metadata": {},
   "source": [
    "Make a list of possible_bs to check that would be the values from -20 to 20 inclusive, in steps of 0.1:"
   ]
  },
  {
   "cell_type": "code",
   "execution_count": 37,
   "metadata": {},
   "outputs": [],
   "source": [
    "possible_bs = list(np.arange(-20,20.1,.1))"
   ]
  },
  {
   "cell_type": "markdown",
   "metadata": {},
   "source": [
    "Now calculate the best m and b values for this dataset.\n",
    "\n",
    "datapoints = [(1, 2), (2, 0), (3, 4), (4, 4), (5, 3)]"
   ]
  },
  {
   "cell_type": "markdown",
   "metadata": {},
   "source": [
    "We are going to find the smallest error. First, we will make every possible `y = m*x + b` line by pairing all of the possible `m`s with all of the possible `b`s. Then, we will see which `y = m*x + b` line produces the smallest total error with the set of data stored in `datapoint`.\n",
    "\n",
    "First, create the variables that we will be optimizing:\n",
    "* `smallest_error` &mdash; this should start at infinity (`float(\"inf\")`) so that any error we get at first will be smaller than our value of `smallest_error`\n",
    "* `best_m` &mdash; we can start this at `0`\n",
    "* `best_b` &mdash; we can start this at `0`\n",
    "\n",
    "We want to:\n",
    "* Iterate through each element `m` in `possible_ms`\n",
    "* For every `m` value, take every `b` value in `possible_bs`\n",
    "* If the value returned from `calculate_all_error` on this `m` value, this `b` value, and `datapoints` is less than our current `smallest_error`,\n",
    "* Set `best_m` and `best_b` to be these values, and set `smallest_error` to this error.\n",
    "\n",
    "By the end of these nested loops, the `smallest_error` should hold the smallest error we have found, and `best_m` and `best_b` should be the values that produced that smallest error value.\n",
    "\n",
    "Print out `best_m`, `best_b` and `smallest_error` after the loops.\n",
    "\n"
   ]
  },
  {
   "cell_type": "code",
   "execution_count": 79,
   "metadata": {},
   "outputs": [],
   "source": [
    "datapoints = [(1, 2), (2, 0), (3, 4), (4, 4), (5, 3)]\n",
    "smallest_error = float(\"inf\")\n",
    "best_m = 0\n",
    "best_b = 0\n",
    "\n",
    "for m in possible_ms:\n",
    "    for b in possible_bs:\n",
    "        current_error = all_error(m, b, datapoints)\n",
    "        if (current_error < smallest_error):\n",
    "            best_m = m\n",
    "            best_b = b\n",
    "            smallest_error = current_error"
   ]
  },
  {
   "cell_type": "code",
   "execution_count": 80,
   "metadata": {},
   "outputs": [
    {
     "data": {
      "text/plain": [
       "9.999999999999929"
      ]
     },
     "execution_count": 80,
     "metadata": {},
     "output_type": "execute_result"
    }
   ],
   "source": [
    "m"
   ]
  },
  {
   "cell_type": "code",
   "execution_count": 81,
   "metadata": {},
   "outputs": [
    {
     "data": {
      "text/plain": [
       "20.00000000000057"
      ]
     },
     "execution_count": 81,
     "metadata": {},
     "output_type": "execute_result"
    }
   ],
   "source": [
    "b"
   ]
  },
  {
   "cell_type": "code",
   "execution_count": 82,
   "metadata": {},
   "outputs": [
    {
     "data": {
      "text/plain": [
       "237.00000000000176"
      ]
     },
     "execution_count": 82,
     "metadata": {},
     "output_type": "execute_result"
    }
   ],
   "source": [
    "current_error"
   ]
  },
  {
   "cell_type": "code",
   "execution_count": 83,
   "metadata": {},
   "outputs": [
    {
     "data": {
      "text/plain": [
       "5.0000000000002665"
      ]
     },
     "execution_count": 83,
     "metadata": {},
     "output_type": "execute_result"
    }
   ],
   "source": [
    "smallest_error"
   ]
  },
  {
   "cell_type": "code",
   "execution_count": 84,
   "metadata": {},
   "outputs": [
    {
     "data": {
      "text/plain": [
       "0.5999999999999623"
      ]
     },
     "execution_count": 84,
     "metadata": {},
     "output_type": "execute_result"
    }
   ],
   "source": [
    "best_m"
   ]
  },
  {
   "cell_type": "code",
   "execution_count": 85,
   "metadata": {},
   "outputs": [
    {
     "data": {
      "text/plain": [
       "1.4000000000003041"
      ]
     },
     "execution_count": 85,
     "metadata": {},
     "output_type": "execute_result"
    }
   ],
   "source": [
    "best_b"
   ]
  },
  {
   "cell_type": "markdown",
   "metadata": {},
   "source": [
    "# Homework"
   ]
  },
  {
   "cell_type": "markdown",
   "metadata": {},
   "source": [
    "# Do the following\n",
    "1) Plot a scatter plot of the datapoints in the array (you should investigate what a scatter plot is).\n",
    "\n",
    "2) In the same plot, draw five different lines in blue color for five randomly-chosen pairs of m,b in m_list and b_list respectively.\n",
    "\n",
    "3) Again, in the same plot draw the line with the best_m and best_b values in red color"
   ]
  },
  {
   "cell_type": "markdown",
   "metadata": {},
   "source": [
    "Note*: For this exercise you may use random library and matplotlib.pyplot library."
   ]
  },
  {
   "cell_type": "code",
   "execution_count": 93,
   "metadata": {},
   "outputs": [
    {
     "data": {
      "image/png": "[encoded data removed]",
      "text/plain": [
       "<Figure size 432x288 with 1 Axes>"
      ]
     },
     "metadata": {
      "needs_background": "light"
     },
     "output_type": "display_data"
    }
   ],
   "source": [
    "import matplotlib.pyplot as plt\n",
    "import random as rnd\n",
    "\n",
    "def linePlot(m, b):\n",
    "    xD = []\n",
    "    yD = []\n",
    "    for x in range(0, 10):\n",
    "        xD.append(x)\n",
    "        yD.append(getY(m, b, x))\n",
    "    return (xD, yD)\n",
    "xDp = []\n",
    "yDp = []\n",
    "for dp in datapoints:\n",
    "    xP, yP = dp\n",
    "    xDp.append(xP)\n",
    "    yDp.append(yP)\n",
    "# Plot data points\n",
    "plt.scatter(xDp, yDp, color='green')\n",
    "# Draw line with best m and b\n",
    "realX, realY = linePlot(best_m, best_b)\n",
    "plt.plot(realX, realY, color='red')\n",
    "# Draw five random lines\n",
    "for i in range(0, 5):\n",
    "    m = possible_ms[rnd.randint(0, len(possible_ms)-1)]\n",
    "    b = possible_bs[rnd.randint(0, len(possible_bs)-1)]\n",
    "    randX, randY = linePlot(m, b)\n",
    "    plt.plot(randX, randY, color='blue')\n",
    "plt.show()"
   ]
  },
  {
   "cell_type": "code",
   "execution_count": null,
   "metadata": {},
   "outputs": [],
   "source": []
  }
 ],
 "metadata": {
  "kernelspec": {
   "display_name": "Python 3",
   "language": "python",
   "name": "python3"
  },
  "language_info": {
   "codemirror_mode": {
    "name": "ipython",
    "version": 3
   },
   "file_extension": ".py",
   "mimetype": "text/x-python",
   "name": "python",
   "nbconvert_exporter": "python",
   "pygments_lexer": "ipython3",
   "version": "3.7.1"
  }
 },
 "nbformat": 4,
 "nbformat_minor": 2
}
